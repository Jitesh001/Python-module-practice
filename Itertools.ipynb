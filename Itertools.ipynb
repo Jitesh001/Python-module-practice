{
 "cells": [
  {
   "cell_type": "code",
   "execution_count": 1,
   "metadata": {},
   "outputs": [],
   "source": [
    "from itertools import count"
   ]
  },
  {
   "cell_type": "code",
   "execution_count": 2,
   "metadata": {},
   "outputs": [
    {
     "name": "stdout",
     "output_type": "stream",
     "text": [
      "5\n",
      "9\n",
      "13\n",
      "17\n",
      "21\n"
     ]
    }
   ],
   "source": [
    "# count([start=0, step=1])\n",
    "for i in count(5,4):\n",
    "    print(i)\n",
    "    if i>20:\n",
    "        break   "
   ]
  },
  {
   "cell_type": "code",
   "execution_count": 5,
   "metadata": {},
   "outputs": [
    {
     "name": "stdout",
     "output_type": "stream",
     "text": [
      "1\n",
      "2\n",
      "3\n",
      "4\n",
      "1\n",
      "2\n",
      "3\n",
      "4\n"
     ]
    }
   ],
   "source": [
    "from itertools import cycle\n",
    "# cycle(iterable)\n",
    "c=0\n",
    "for i in cycle([1,2,3,4]):\n",
    "    print(i)\n",
    "    c+=1\n",
    "    if c==8:\n",
    "        break\n",
    "        "
   ]
  },
  {
   "cell_type": "code",
   "execution_count": 18,
   "metadata": {},
   "outputs": [
    {
     "name": "stdout",
     "output_type": "stream",
     "text": [
      "India India India India\n"
     ]
    }
   ],
   "source": [
    "from itertools import repeat\n",
    "# repeat(elem [,n])\n",
    "print(*repeat('India',4))"
   ]
  },
  {
   "cell_type": "code",
   "execution_count": 17,
   "metadata": {},
   "outputs": [
    {
     "name": "stdout",
     "output_type": "stream",
     "text": [
      "(1, 4) (1, 5) (1, 6) (2, 4) (2, 5) (2, 6) (3, 4) (3, 5) (3, 6)\n",
      "('A', 'C', 'E') ('A', 'C', 'F') ('A', 'D', 'E') ('A', 'D', 'F') ('B', 'C', 'E') ('B', 'C', 'F') ('B', 'D', 'E') ('B', 'D', 'F')\n",
      "('P', 1, 'P', 1) ('P', 1, 'P', 2) ('P', 1, 'Q', 1) ('P', 1, 'Q', 2) ('P', 2, 'P', 1) ('P', 2, 'P', 2) ('P', 2, 'Q', 1) ('P', 2, 'Q', 2) ('Q', 1, 'P', 1) ('Q', 1, 'P', 2) ('Q', 1, 'Q', 1) ('Q', 1, 'Q', 2) ('Q', 2, 'P', 1) ('Q', 2, 'P', 2) ('Q', 2, 'Q', 1) ('Q', 2, 'Q', 2)\n"
     ]
    }
   ],
   "source": [
    "from itertools import product\n",
    "# product(*iterables, repeat=1)\n",
    "print(*product([1,2,3],[4,5,6]))\n",
    "print(*product('AB','CD','EF'))\n",
    "print(*product('PQ',[1,2],repeat=2))"
   ]
  },
  {
   "cell_type": "code",
   "execution_count": 25,
   "metadata": {},
   "outputs": [
    {
     "name": "stdout",
     "output_type": "stream",
     "text": [
      "('A', 'B') ('A', 'C') ('B', 'A') ('B', 'C') ('C', 'A') ('C', 'B')\n",
      "('P', 'Q') ('P', 'R') ('Q', 'P') ('Q', 'R') ('R', 'P') ('R', 'Q')\n",
      "(1, 3) (1, 5) (3, 1) (3, 5) (5, 1) (5, 3)\n"
     ]
    }
   ],
   "source": [
    "from itertools import permutations\n",
    "# permutations(iterable,group)\n",
    "print(*permutations('ABC',2))\n",
    "print(*permutations('PQR',2))\n",
    "print(*permutations([1,3,5],2))"
   ]
  },
  {
   "cell_type": "code",
   "execution_count": 26,
   "metadata": {},
   "outputs": [
    {
     "name": "stdout",
     "output_type": "stream",
     "text": [
      "('X', 'Y') ('X', 'Z') ('X', 'W') ('Y', 'Z') ('Y', 'W') ('Z', 'W')\n",
      "('X', 'Y', 'Z') ('X', 'Y', 'W') ('X', 'Z', 'W') ('Y', 'Z', 'W')\n",
      "(4, 6) (4, 2) (4, 5) (6, 2) (6, 5) (2, 5)\n"
     ]
    }
   ],
   "source": [
    "from itertools import combinations\n",
    "# combinations(iterable,r)\n",
    "print(*combinations('XYZW',2))\n",
    "print(*combinations('XYZW',3))\n",
    "print(*combinations([4,6,2,5],2))"
   ]
  },
  {
   "cell_type": "code",
   "execution_count": 27,
   "metadata": {},
   "outputs": [
    {
     "name": "stdout",
     "output_type": "stream",
     "text": [
      "(0, 1, 2) (0, 1, 3) (0, 2, 3) (1, 2, 3)\n"
     ]
    }
   ],
   "source": [
    "print(*combinations(range(4),3))"
   ]
  },
  {
   "cell_type": "code",
   "execution_count": 29,
   "metadata": {},
   "outputs": [
    {
     "name": "stdout",
     "output_type": "stream",
     "text": [
      "('A', 'A') ('A', 'B') ('A', 'C') ('B', 'B') ('B', 'C') ('C', 'C')\n",
      "(0, 0, 0) (0, 0, 1) (0, 0, 2) (0, 1, 1) (0, 1, 2) (0, 2, 2) (1, 1, 1) (1, 1, 2) (1, 2, 2) (2, 2, 2)\n"
     ]
    }
   ],
   "source": [
    "from itertools import combinations_with_replacement as cwr\n",
    "# combinations_with_replacement(iterable,group)\n",
    "print(*cwr('ABC',2))\n",
    "print(*cwr(range(3),3))"
   ]
  },
  {
   "cell_type": "code",
   "execution_count": 32,
   "metadata": {},
   "outputs": [
    {
     "name": "stdout",
     "output_type": "stream",
     "text": [
      "1 3 6 10\n",
      "A AB ABC ABCD\n",
      "i il ilov ilove ilovein iloveindia\n"
     ]
    }
   ],
   "source": [
    "from itertools import accumulate\n",
    "# accumulate(iterable [,func]) by default functn is addition\n",
    "print(*accumulate([1,2,3,4]))\n",
    "print(*accumulate('ABCD'))\n",
    "print(*accumulate(['i','l','ov','e','in','dia']))"
   ]
  },
  {
   "cell_type": "code",
   "execution_count": 36,
   "metadata": {},
   "outputs": [
    {
     "name": "stdout",
     "output_type": "stream",
     "text": [
      "1 2 6 24\n"
     ]
    }
   ],
   "source": [
    "import operator\n",
    "print(*accumulate([1,2,3,4],operator.mul))"
   ]
  },
  {
   "cell_type": "code",
   "execution_count": 38,
   "metadata": {},
   "outputs": [
    {
     "name": "stdout",
     "output_type": "stream",
     "text": [
      "1 5 5 7 7\n"
     ]
    }
   ],
   "source": [
    "print(*accumulate([1,5,3,7,4],max))"
   ]
  },
  {
   "cell_type": "code",
   "execution_count": 44,
   "metadata": {},
   "outputs": [
    {
     "name": "stdout",
     "output_type": "stream",
     "text": [
      "P Q R\n",
      "12 4 6\n",
      "P Q R A B C A R M S Q L\n"
     ]
    }
   ],
   "source": [
    "from itertools import chain\n",
    "# chain(*iterables)\n",
    "print(*chain('PQR'))\n",
    "print(*chain([12,4,6]))\n",
    "print(*chain('PQR','ABC','ARM','SQL'))\n"
   ]
  },
  {
   "cell_type": "code",
   "execution_count": 48,
   "metadata": {},
   "outputs": [
    {
     "name": "stdout",
     "output_type": "stream",
     "text": [
      "PQR ABC ARM SQL\n",
      "P Q R A B C A R M S Q L\n"
     ]
    }
   ],
   "source": [
    "from itertools import chain\n",
    "# chain.from_iterable(iterable)\n",
    "print(*chain(['PQR','ABC','ARM','SQL']))\n",
    "print(*chain.from_iterable(['PQR','ABC','ARM','SQL']))"
   ]
  },
  {
   "cell_type": "code",
   "execution_count": 53,
   "metadata": {},
   "outputs": [
    {
     "name": "stdout",
     "output_type": "stream",
     "text": [
      "a b\n",
      "1 2 6\n"
     ]
    }
   ],
   "source": [
    "from itertools import compress\n",
    "# compress(data, selectors)\n",
    "print(*compress('abcd',[1,1,0,0]))          # 1,True = print....0,False = dont\n",
    "print(*compress([1,2,3,6],[1,True,0,True]))"
   ]
  },
  {
   "cell_type": "code",
   "execution_count": 110,
   "metadata": {},
   "outputs": [
    {
     "name": "stdout",
     "output_type": "stream",
     "text": [
      "5 6 3 7\n"
     ]
    }
   ],
   "source": [
    "from itertools import dropwhile\n",
    "#dropwhile(predicate,iterable)\n",
    "# As long as the predicate is True, \n",
    "# it drops elements from the iterable. As soon as it is False, it starts returning every element.\n",
    "print(*dropwhile(lambda x : x < 5 ,[1 ,2,4,5,6,3,7]))"
   ]
  },
  {
   "cell_type": "code",
   "execution_count": 61,
   "metadata": {},
   "outputs": [
    {
     "name": "stdout",
     "output_type": "stream",
     "text": [
      "3 6 9 12 15 18\n"
     ]
    }
   ],
   "source": [
    "from itertools import filterfalse\n",
    "# filterfalse(predicate,iterable)\n",
    "# This makes an iterator that filters those elements out from the iterator,\n",
    "# for which the predicate is True.\n",
    "print(*filterfalse(lambda x : x % 3,range(1,20)))"
   ]
  },
  {
   "cell_type": "code",
   "execution_count": 74,
   "metadata": {},
   "outputs": [
    {
     "name": "stdout",
     "output_type": "stream",
     "text": [
      "['A']\n",
      "['B', 'B']\n",
      "['A']\n",
      "['D']\n",
      "['M', 'M']\n",
      "['C', 'C']\n",
      "['S']\n"
     ]
    }
   ],
   "source": [
    "from itertools import groupby\n",
    "# groupby(iterable,key=None)\n",
    "for i,j in groupby('ABBADMMCCS'):\n",
    "    print(list(j))"
   ]
  },
  {
   "cell_type": "code",
   "execution_count": 84,
   "metadata": {},
   "outputs": [
    {
     "name": "stdout",
     "output_type": "stream",
     "text": [
      "1 2\n",
      "7 2\n",
      "4 6\n"
     ]
    }
   ],
   "source": [
    "from itertools import islice\n",
    "# islice(iterable,start,stop [,step])\n",
    "# This makes an iterator that returns selected elements from the iterable.\n",
    "print(*islice([1,2,3,4,5],2))    # consider pos i.e index\n",
    "print(*islice([5,3,7,2,4,1,9],2,4))\n",
    "print(*islice([1,2,3,4,5,6,7,8,9],3,7,2))"
   ]
  },
  {
   "cell_type": "code",
   "execution_count": 88,
   "metadata": {},
   "outputs": [
    {
     "name": "stdout",
     "output_type": "stream",
     "text": [
      "abcde 3 7 9\n",
      "AA BB CC\n"
     ]
    }
   ],
   "source": [
    "from itertools import starmap\n",
    "import operator\n",
    "#  starmap(function,iterable)\n",
    "print(*starmap(operator.add,[('abc','de'),(1,2),(3,4),(4,5)]))\n",
    "print(*starmap(lambda x:x*2,'ABC'))"
   ]
  },
  {
   "cell_type": "code",
   "execution_count": 90,
   "metadata": {},
   "outputs": [
    {
     "name": "stdout",
     "output_type": "stream",
     "text": [
      "1 2 3 4 4\n"
     ]
    }
   ],
   "source": [
    "from itertools import takewhile\n",
    "# takewhile(predicate,iterable)\n",
    "print(*takewhile(lambda x:x<5,[1,2,3,4,4,5,6,8]))"
   ]
  },
  {
   "cell_type": "code",
   "execution_count": 98,
   "metadata": {},
   "outputs": [
    {
     "name": "stdout",
     "output_type": "stream",
     "text": [
      "1\n",
      "2\n",
      "1\n",
      "2\n"
     ]
    }
   ],
   "source": [
    "from itertools import tee\n",
    "# tee(n=2)\n",
    "for i in tee([1,2]):\n",
    "    for j in i:\n",
    "        print(j)\n"
   ]
  },
  {
   "cell_type": "code",
   "execution_count": 101,
   "metadata": {},
   "outputs": [
    {
     "name": "stdout",
     "output_type": "stream",
     "text": [
      "JITESH\n",
      "SHEWALE\n",
      "JITESH\n",
      "SHEWALE\n",
      "JITESH\n",
      "SHEWALE\n"
     ]
    }
   ],
   "source": [
    "for i in tee(['JITESH','SHEWALE'],3):\n",
    "    for j in i:\n",
    "        print(j)"
   ]
  },
  {
   "cell_type": "code",
   "execution_count": 105,
   "metadata": {},
   "outputs": [
    {
     "name": "stdout",
     "output_type": "stream",
     "text": [
      "('A', 1) ('B', 2) ('C', 3) (None, 4)\n",
      "(1, 'a') (2, 'b') (3, 'c') (4, '-')\n",
      "(1, 6) (2, 6) (3, 7) (4, '-')\n"
     ]
    }
   ],
   "source": [
    "from itertools import zip_longest\n",
    "# zip_longest(*iterables,fillvalue=None)\n",
    "print(*zip_longest('ABC',[1,2,3,4]))\n",
    "print(*zip_longest([1,2,3,4],['a','b','c'],fillvalue='-'))\n",
    "print(*zip_longest([1,2,3,4],[6,6,7],fillvalue='-'))"
   ]
  },
  {
   "cell_type": "code",
   "execution_count": null,
   "metadata": {},
   "outputs": [],
   "source": []
  },
  {
   "cell_type": "code",
   "execution_count": null,
   "metadata": {},
   "outputs": [],
   "source": []
  },
  {
   "cell_type": "code",
   "execution_count": null,
   "metadata": {},
   "outputs": [],
   "source": []
  },
  {
   "cell_type": "code",
   "execution_count": null,
   "metadata": {},
   "outputs": [],
   "source": []
  }
 ],
 "metadata": {
  "kernelspec": {
   "display_name": "Python 3",
   "language": "python",
   "name": "python3"
  },
  "language_info": {
   "codemirror_mode": {
    "name": "ipython",
    "version": 3
   },
   "file_extension": ".py",
   "mimetype": "text/x-python",
   "name": "python",
   "nbconvert_exporter": "python",
   "pygments_lexer": "ipython3",
   "version": "3.7.3"
  }
 },
 "nbformat": 4,
 "nbformat_minor": 2
}
