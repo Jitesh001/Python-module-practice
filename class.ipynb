{
 "cells": [
  {
   "cell_type": "code",
   "execution_count": 1,
   "metadata": {},
   "outputs": [
    {
     "name": "stdout",
     "output_type": "stream",
     "text": [
      "10\n"
     ]
    }
   ],
   "source": [
    "class myClass:\n",
    "    x=10\n",
    "    \n",
    "p1=myClass()  #Create Object\n",
    "print(p1.x)"
   ]
  },
  {
   "cell_type": "code",
   "execution_count": 5,
   "metadata": {},
   "outputs": [
    {
     "name": "stdout",
     "output_type": "stream",
     "text": [
      "Jitesh\n",
      "Shewale\n"
     ]
    }
   ],
   "source": [
    "class Name:\n",
    "    def __init__(self,Fstname,Lstname):\n",
    "        self.Fstname=Fstname\n",
    "        self.Lstname=Lstname\n",
    "        \n",
    "p1=Name('Jitesh','Shewale')\n",
    "\n",
    "print(p1.Fstname)\n",
    "print(p1.Lstname)"
   ]
  },
  {
   "cell_type": "code",
   "execution_count": 14,
   "metadata": {},
   "outputs": [
    {
     "name": "stdout",
     "output_type": "stream",
     "text": [
      "sum is 48\n"
     ]
    }
   ],
   "source": [
    "class Add:\n",
    "    def __init__(self, a, b):\n",
    "        self.a = a\n",
    "        self.b = b\n",
    "\n",
    "    def myfunc(self):\n",
    "        print('sum is', (self.a+self.b))\n",
    "\n",
    "p1 = Add(12, 36)\n",
    "p1.myfunc()"
   ]
  },
  {
   "cell_type": "code",
   "execution_count": null,
   "metadata": {},
   "outputs": [],
   "source": []
  }
 ],
 "metadata": {
  "kernelspec": {
   "display_name": "Python 3",
   "language": "python",
   "name": "python3"
  },
  "language_info": {
   "codemirror_mode": {
    "name": "ipython",
    "version": 3
   },
   "file_extension": ".py",
   "mimetype": "text/x-python",
   "name": "python",
   "nbconvert_exporter": "python",
   "pygments_lexer": "ipython3",
   "version": "3.7.3"
  }
 },
 "nbformat": 4,
 "nbformat_minor": 2
}
