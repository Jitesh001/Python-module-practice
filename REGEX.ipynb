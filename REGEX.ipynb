{
 "cells": [
  {
   "cell_type": "code",
   "execution_count": 3,
   "metadata": {},
   "outputs": [
    {
     "name": "stdout",
     "output_type": "stream",
     "text": [
      "415-555-4242 is a phone number:\n",
      "True\n",
      "Moshi moshi is a phone number:\n",
      "False\n"
     ]
    }
   ],
   "source": [
    "def isPhonenumber(text):\n",
    "    if len(text)!=12:\n",
    "        return False\n",
    "    for i in range(0,3):\n",
    "        if not text[i].isdecimal():\n",
    "            return False\n",
    "    if text[3] != '-':\n",
    "            return False\n",
    "    for i in range(4, 7):\n",
    "         if not text[i].isdecimal():\n",
    "            return False\n",
    "    if text[7] != '-':\n",
    "           return False\n",
    "    for i in range(8, 12):\n",
    "        if not text[i].isdecimal():\n",
    "               return False\n",
    "    return True\n",
    "print('415-555-4242 is a phone number:')\n",
    "print(isPhonenumber('415-555-4242'))\n",
    "print('Moshi moshi is a phone number:')\n",
    "print(isPhonenumber('Moshi moshi') )           "
   ]
  },
  {
   "cell_type": "code",
   "execution_count": 4,
   "metadata": {},
   "outputs": [
    {
     "name": "stdout",
     "output_type": "stream",
     "text": [
      "Phone number found: 415-555-1011\n",
      "Phone number found: 415-555-9999\n",
      "Done\n"
     ]
    }
   ],
   "source": [
    "message = 'Call me at 415-555-1011 tomorrow. 415-555-9999 is my office.'\n",
    "for i in range(len(message)):\n",
    "    txt=message[i:i+12]\n",
    "    if isPhonenumber(txt):\n",
    "        print('Phone number found: ' + txt)\n",
    "print('Done')"
   ]
  },
  {
   "cell_type": "code",
   "execution_count": 5,
   "metadata": {},
   "outputs": [
    {
     "name": "stdout",
     "output_type": "stream",
     "text": [
      "Phone number found: 415-555-4242\n"
     ]
    }
   ],
   "source": [
    "## Matching Regex Objects\n",
    "import re\n",
    "phoneNumRegex = re.compile(r'\\d\\d\\d-\\d\\d\\d-\\d\\d\\d\\d')\n",
    "mo = phoneNumRegex.search('My number is 415-555-4242.')\n",
    "print('Phone number found: ' + mo.group())"
   ]
  },
  {
   "cell_type": "code",
   "execution_count": 7,
   "metadata": {},
   "outputs": [
    {
     "name": "stdout",
     "output_type": "stream",
     "text": [
      "415-559-4248\n",
      "415\n",
      "559-4248\n",
      "('415', '559-4248')\n"
     ]
    }
   ],
   "source": [
    "phoneNumRegex = re.compile(r'(\\d\\d\\d)-(\\d\\d\\d-\\d\\d\\d\\d)')\n",
    "mo = phoneNumRegex.search('My number is 415-559-4248.')\n",
    "print(mo.group(0))\n",
    "print(mo.group(1))\n",
    "print(mo.group(2))\n",
    "print(mo.groups())"
   ]
  },
  {
   "cell_type": "code",
   "execution_count": 10,
   "metadata": {},
   "outputs": [
    {
     "name": "stdout",
     "output_type": "stream",
     "text": [
      "(415)\n",
      "559-4248\n"
     ]
    }
   ],
   "source": [
    "phoneNumRegex = re.compile(r'(\\(\\d\\d\\d\\)) (\\d\\d\\d-\\d\\d\\d\\d)')\n",
    "mo = phoneNumRegex.search('My number is (415) 559-4248.')\n",
    "print(mo.group(1))\n",
    "print(mo.group(2))"
   ]
  },
  {
   "cell_type": "code",
   "execution_count": 14,
   "metadata": {},
   "outputs": [
    {
     "name": "stdout",
     "output_type": "stream",
     "text": [
      "Batman\n"
     ]
    }
   ],
   "source": [
    "heroRegex = re.compile (r'Batman|Tina Fey')\n",
    "mo=heroRegex.search('Batman and Tina Fey.')\n",
    "print(mo.group())"
   ]
  },
  {
   "cell_type": "code",
   "execution_count": 17,
   "metadata": {},
   "outputs": [
    {
     "name": "stdout",
     "output_type": "stream",
     "text": [
      "Tina Fey\n"
     ]
    }
   ],
   "source": [
    "heroRegex = re.compile (r'Batman|Tina Fey')\n",
    "mo=heroRegex.search('Tina Fey and batman .')\n",
    "print(mo.group())"
   ]
  },
  {
   "cell_type": "code",
   "execution_count": 25,
   "metadata": {},
   "outputs": [
    {
     "name": "stdout",
     "output_type": "stream",
     "text": [
      "Batcopter\n",
      "copter\n"
     ]
    }
   ],
   "source": [
    "batRegex = re.compile(r'Bat(man|mobile|copter|bat)')\n",
    "mo=batRegex.search('Batcopter lost a wheel')\n",
    "print(mo.group())\n",
    "print(mo.group(1))"
   ]
  },
  {
   "cell_type": "code",
   "execution_count": 28,
   "metadata": {},
   "outputs": [
    {
     "name": "stdout",
     "output_type": "stream",
     "text": [
      "Batman\n",
      "Batwoman\n"
     ]
    }
   ],
   "source": [
    "batRegex = re.compile(r'Bat(wo)?man')\n",
    "mo1 = batRegex.search('The Adventures of Batman') # ? optional part\n",
    "print(mo1.group())\n",
    "mo2 = batRegex.search('The Adventures of Batwoman')\n",
    "print(mo2.group())"
   ]
  },
  {
   "cell_type": "code",
   "execution_count": 37,
   "metadata": {},
   "outputs": [
    {
     "name": "stdout",
     "output_type": "stream",
     "text": [
      "Batwowomanmanxx\n"
     ]
    }
   ],
   "source": [
    "batRegex = re.compile(r'Bat(wo)*(man)*(x)*') # * matches 0 or more\n",
    "mo3 = batRegex.search('The Adventures of Batwowomanmanxx')\n",
    "print(mo3.group())"
   ]
  },
  {
   "cell_type": "code",
   "execution_count": 39,
   "metadata": {},
   "outputs": [
    {
     "name": "stdout",
     "output_type": "stream",
     "text": [
      "None\n"
     ]
    }
   ],
   "source": [
    "batRegex = re.compile(r'Bat(wo)+man')\n",
    "mo3 = batRegex.search('The Adventures of Batman')\n",
    "print(mo3)"
   ]
  },
  {
   "cell_type": "code",
   "execution_count": 46,
   "metadata": {},
   "outputs": [
    {
     "name": "stdout",
     "output_type": "stream",
     "text": [
      "HaHaHa\n",
      "None\n"
     ]
    }
   ],
   "source": [
    "haRegex = re.compile(r'(Ha){3}')\n",
    "mo1 = haRegex.search('HaHaHa')\n",
    "print(mo1.group())\n",
    "mo2 = haRegex.search('Ha')\n",
    "print(mo2)"
   ]
  },
  {
   "cell_type": "code",
   "execution_count": 49,
   "metadata": {},
   "outputs": [
    {
     "name": "stdout",
     "output_type": "stream",
     "text": [
      "HaHaHaHaHa\n",
      "HaHaHaHa\n",
      "HaHaHa\n"
     ]
    }
   ],
   "source": [
    "# (Ha){3,5} can match three, four, or five instances of Ha in the string\n",
    "greedyHaRegex = re.compile(r'(Ha){3,5}')\n",
    "mo1 = greedyHaRegex.search('HaHaHaHaHa')\n",
    "mo2 = greedyHaRegex.search('HaHaHaHa')\n",
    "print(mo1.group())\n",
    "print(mo2.group())\n",
    "\n",
    "#The non-greedy version of the curly brackets, which matches the shortest string possible\n",
    "nongreedyHaRegex = re.compile(r'(Ha){3,5}?')\n",
    "mo3 = nongreedyHaRegex.search('HaHaHaHaHa')\n",
    "print(mo3.group())"
   ]
  },
  {
   "cell_type": "code",
   "execution_count": 50,
   "metadata": {},
   "outputs": [
    {
     "name": "stdout",
     "output_type": "stream",
     "text": [
      "['415-555-9999', '212-555-0000']\n"
     ]
    }
   ],
   "source": [
    "# findall() , return list of matches group\n",
    "phoneNumRegex = re.compile(r'\\d\\d\\d-\\d\\d\\d-\\d\\d\\d\\d') # has no groups\n",
    "mo=phoneNumRegex.findall('Cell: 415-555-9999 Work: 212-555-0000')\n",
    "print(mo)"
   ]
  },
  {
   "cell_type": "code",
   "execution_count": 51,
   "metadata": {},
   "outputs": [
    {
     "name": "stdout",
     "output_type": "stream",
     "text": [
      "[('415', '555', '9999'), ('212', '555', '0000')]\n"
     ]
    }
   ],
   "source": [
    "# tupels return\n",
    "phoneNumRegex = re.compile(r'(\\d\\d\\d)-(\\d\\d\\d)-(\\d\\d\\d\\d)')\n",
    "mo=phoneNumRegex.findall('Cell: 415-555-9999 Work: 212-555-0000')\n",
    "print(mo)"
   ]
  },
  {
   "cell_type": "markdown",
   "metadata": {},
   "source": [
    "#### \\d Any numeric digit from 0 to 9.\n",
    "#### \\D Any character that is not a numeric digit from 0 to 9.\n",
    "#### \\w Any letter, numeric digit, or the underscore character.\n",
    "#### \\W Any character that is not a letter, numeric digit, or the underscore character.\n",
    "#### \\s Any space, tab, or newline character. (Think of this as matching “space” characters.)\n",
    "#### \\S Any character that is not a space, tab, or newline."
   ]
  },
  {
   "cell_type": "code",
   "execution_count": 56,
   "metadata": {},
   "outputs": [
    {
     "name": "stdout",
     "output_type": "stream",
     "text": [
      "['12 drummers', '11 39040', '10 lords', '8 maids', '6 geese']\n"
     ]
    }
   ],
   "source": [
    "xmasRegex = re.compile(r'\\d+\\s\\w+') # digit space letter/digit/underscore \n",
    "mo= xmasRegex.findall('12 drummers, 11 39040, 10 lords, 9 @%!, 8 maids, 7mswans, 6 geese')\n",
    "print(mo)"
   ]
  },
  {
   "cell_type": "code",
   "execution_count": 57,
   "metadata": {},
   "outputs": [
    {
     "name": "stdout",
     "output_type": "stream",
     "text": [
      "['o', 'o', 'o', 'e', 'a', 'a', 'o', 'o', 'A', 'O', 'O']\n"
     ]
    }
   ],
   "source": [
    "# Making Your Own Character Classes\n",
    "vowelRegex = re.compile(r'[aeiouAEIOU]')\n",
    "mo=vowelRegex.findall('Robocop eats baby food. BABY FOOD.')\n",
    "print(mo)"
   ]
  },
  {
   "cell_type": "code",
   "execution_count": 58,
   "metadata": {},
   "outputs": [
    {
     "name": "stdout",
     "output_type": "stream",
     "text": [
      "['b', 'a', '1', '2']\n"
     ]
    }
   ],
   "source": [
    "raw=re.compile(r'[a-cA-J0-6]') # a to c , A to J and 0 to 6\n",
    "mo=raw.findall('hello bae 128')\n",
    "print(mo)"
   ]
  },
  {
   "cell_type": "code",
   "execution_count": 59,
   "metadata": {},
   "outputs": [
    {
     "name": "stdout",
     "output_type": "stream",
     "text": [
      "[' ', 'm', ' ', 'm', 'n']\n"
     ]
    }
   ],
   "source": [
    "# ^ negative character class will match all the characters that are not in the character class.\n",
    "consonantRegex = re.compile(r'[^aeiouAEIOU]')\n",
    "mo=consonantRegex.findall('i am man')\n",
    "print(mo)"
   ]
  },
  {
   "cell_type": "code",
   "execution_count": 71,
   "metadata": {},
   "outputs": [
    {
     "name": "stdout",
     "output_type": "stream",
     "text": [
      "<re.Match object; span=(0, 5), match='Hello'>\n",
      "<re.Match object; span=(4, 9), match='hello'>\n",
      "<re.Match object; span=(16, 17), match='2'>\n",
      "<re.Match object; span=(0, 10), match='1234567890'>\n",
      "None\n"
     ]
    }
   ],
   "source": [
    "# ^ - a match must occur at the beginning of the searched text.\n",
    "# $ - a match must occur at the end of the searched text.\n",
    "# r'^\\d+$' - begin and end with number\n",
    "beginsWithHello = re.compile(r'^Hello')\n",
    "mo=beginsWithHello.search('Hello world!')\n",
    "print(mo)\n",
    "endhello=re.compile(r'hello$')\n",
    "mo1=endhello.search('hey,hello')\n",
    "print(mo1)\n",
    "endsWithNumber = re.compile(r'\\d$')\n",
    "mo2=endsWithNumber.search('Your number is 42')\n",
    "print(mo2)\n",
    "wholeStringIsNum = re.compile(r'^\\d+$')\n",
    "mo3=wholeStringIsNum.search('1234567890')\n",
    "print(mo3)\n",
    "mo4=wholeStringIsNum.search('12345  67890')\n",
    "print(mo4)"
   ]
  },
  {
   "cell_type": "code",
   "execution_count": 72,
   "metadata": {},
   "outputs": [
    {
     "name": "stdout",
     "output_type": "stream",
     "text": [
      "['cat', 'hat', 'sat', 'lat', 'mat']\n"
     ]
    }
   ],
   "source": [
    "# . - The Wildcard Character , will match any(only one) character except for a newline.\n",
    "atRegex = re.compile(r'.at')\n",
    "mo=atRegex.findall('The cat in the hat sat on the flat mat.') # flat has 4 char so discard\n",
    "print(mo)"
   ]
  },
  {
   "cell_type": "code",
   "execution_count": 76,
   "metadata": {},
   "outputs": [
    {
     "name": "stdout",
     "output_type": "stream",
     "text": [
      "Al Sweigart\n",
      "<To serve man>\n",
      "<To serve man> for dinner.>\n"
     ]
    }
   ],
   "source": [
    "# .* - Matching Everything with Dot-Star\n",
    "nameRegex = re.compile(r'First Name: (.*) Last Name: (.*)')\n",
    "mo = nameRegex.search('First Name: Al Last Name: Sweigart')\n",
    "print(mo.group(1),mo.group(2))\n",
    "\n",
    "#  (.*?) - nongreedy way\n",
    "nongreedyRegex = re.compile(r'<.*?>')\n",
    "mo = nongreedyRegex.search('<To serve man> for dinner.>')\n",
    "print(mo.group())\n",
    "\n",
    "nongreedyRegex = re.compile(r'<.*>')\n",
    "mo1 = nongreedyRegex.search('<To serve man> for dinner.>')\n",
    "print(mo1.group())"
   ]
  },
  {
   "cell_type": "code",
   "execution_count": 78,
   "metadata": {},
   "outputs": [
    {
     "name": "stdout",
     "output_type": "stream",
     "text": [
      "Serve the public trust.\n",
      "Serve the public trust.\n",
      "Protect the innocent.\n"
     ]
    }
   ],
   "source": [
    "# re. DOTALL - Matching Newlines with the Dot Character\n",
    "noNewlineRegex = re.compile('.*')\n",
    "mo=noNewlineRegex.search('Serve the public trust.\\nProtect the innocent.')\n",
    "print(mo.group())\n",
    "newlineRegex = re.compile('.*', re.DOTALL)\n",
    "mo1=newlineRegex.search('Serve the public trust.\\nProtect the innocent.')\n",
    "print(mo1.group())"
   ]
  },
  {
   "cell_type": "markdown",
   "metadata": {},
   "source": [
    "#### The ? matches zero or one of the preceding group.\n",
    "#### The * matches zero or more of the preceding group.\n",
    "#### The + matches one or more of the preceding group.\n",
    "#### The {n} matches exactly n of the preceding group.\n",
    "#### The {n,} matches n or more of the preceding group.\n",
    "#### The {,m} matches 0 to m of the preceding group.\n",
    "#### The {n,m} matches at least n and at most m of the preceding group.\n",
    "#### {n,m}? or *? or +? performs a nongreedy match of the preceding group.\n",
    "#### ^spam means the string must begin with spam.\n",
    "#### spam$ means the string must end with spam.\n",
    "#### The . matches any character, except newline characters.\n",
    "#### \\d, \\w, and \\s match a digit, word, or space character, respectively.\n",
    "#### \\D, \\W, and \\S match anything except a digit, word, or space character, respectively.\n",
    "#### [abc] matches any character between the brackets (such as a, b, or c).\n",
    "#### [^abc] matches any character that isn’t between the brackets."
   ]
  },
  {
   "cell_type": "code",
   "execution_count": 80,
   "metadata": {},
   "outputs": [
    {
     "name": "stdout",
     "output_type": "stream",
     "text": [
      "Robocop\n"
     ]
    }
   ],
   "source": [
    "# re.I - Case-Insensitive Matching\n",
    "robocop = re.compile(r'robocop', re.I)\n",
    "mo=robocop.search('Robocop is part man, part machine, all cop.')\n",
    "print(mo.group())"
   ]
  },
  {
   "cell_type": "code",
   "execution_count": 88,
   "metadata": {},
   "outputs": [
    {
     "name": "stdout",
     "output_type": "stream",
     "text": [
      "CENSORED gave the secret documents to CENSORED.\n",
      "A**** told t**** E**** knew B**** agent.\n"
     ]
    }
   ],
   "source": [
    "# Substituting Strings with the sub() Method\n",
    "namesRegex = re.compile(r'Agent \\w+')     # w+ including 2nd letter\n",
    "mo=namesRegex.sub('CENSORED', 'Agent Alice gave the secret documents to Agent Bob.')\n",
    "print(mo)\n",
    "\n",
    "agentNamesRegex = re.compile(r'Agent (\\w)\\w*') # disard agent show 2nd letter with *\n",
    "mo1=agentNamesRegex.sub(r'\\1****', 'Agent Alice told Agent that Agent Eve knew Agent Bob agent.')\n",
    "print(mo1)"
   ]
  },
  {
   "cell_type": "markdown",
   "metadata": {},
   "source": [
    "##### So if you want a regular expression that’s case-insensitive and includes newlines to match the dot character, you would form your re.compile() call like this:\n",
    "\n",
    "someRegexValue = re.compile('foo', re.IGNORECASE | re.DOTALL)\n",
    "\n",
    "All three options for the second argument will look like this:\n",
    "someRegexValue = re.compile('foo', re.IGNORECASE | re.DOTALL | re.VERBOSE)"
   ]
  },
  {
   "cell_type": "code",
   "execution_count": 4,
   "metadata": {},
   "outputs": [],
   "source": [
    "#practice"
   ]
  },
  {
   "cell_type": "code",
   "execution_count": 3,
   "metadata": {},
   "outputs": [
    {
     "name": "stdout",
     "output_type": "stream",
     "text": [
      "<re.Match object; span=(0, 17), match='The rain in Spain'>\n",
      "None\n"
     ]
    }
   ],
   "source": [
    "import re\n",
    "\n",
    "txt = \"The rain in Spain\"\n",
    "txt2='hello'\n",
    "x = re.search(\"^The.*Spain$\", txt)\n",
    "x2 = re.search(\"^The.*Spain$\", txt2)\n",
    "print(x)\n",
    "print(x2)"
   ]
  },
  {
   "cell_type": "code",
   "execution_count": null,
   "metadata": {},
   "outputs": [],
   "source": []
  }
 ],
 "metadata": {
  "kernelspec": {
   "display_name": "Python 3",
   "language": "python",
   "name": "python3"
  },
  "language_info": {
   "codemirror_mode": {
    "name": "ipython",
    "version": 3
   },
   "file_extension": ".py",
   "mimetype": "text/x-python",
   "name": "python",
   "nbconvert_exporter": "python",
   "pygments_lexer": "ipython3",
   "version": "3.7.3"
  }
 },
 "nbformat": 4,
 "nbformat_minor": 2
}
