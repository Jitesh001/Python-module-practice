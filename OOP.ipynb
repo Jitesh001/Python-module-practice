{
 "cells": [
  {
   "cell_type": "code",
   "execution_count": 1,
   "metadata": {},
   "outputs": [
    {
     "name": "stdout",
     "output_type": "stream",
     "text": [
      "blu is bird\n",
      "woo is also bird\n",
      "blu is a 10 years old.\n",
      "woo is a 15 years old.\n"
     ]
    }
   ],
   "source": [
    "# Creating Class and Object in Python\n",
    "class Parrot:\n",
    "    # class attribute\n",
    "    species='bird'            #bird ---->Parrot\n",
    "    \n",
    "    # instance attributes\n",
    "    def __init__(self,name,age):   # name,age--->bird \n",
    "        self.name=name\n",
    "        self.age=age\n",
    "        \n",
    "#instantiate the parrot class\n",
    "blu=Parrot('blu',10)\n",
    "woo=Parrot('woo',15)\n",
    "\n",
    "#access the class attribute\n",
    "print('blu is {}'.format(blu.__class__.species))\n",
    "print('woo is also {}'.format(woo.__class__.species))\n",
    "\n",
    "# access the instance attribte\n",
    "print('{} is a {} years old.'.format(blu.name,blu.age))\n",
    "print('{} is a {} years old.'.format(woo.name,woo.age))\n"
   ]
  },
  {
   "cell_type": "code",
   "execution_count": 3,
   "metadata": {},
   "outputs": [
    {
     "name": "stdout",
     "output_type": "stream",
     "text": [
      "welcome to our 1st example\n",
      "Jitesh\n",
      "<function simpleClass.myFun at 0x057AC6A8>\n",
      "<bound method simpleClass.myFun of <__main__.simpleClass object at 0x057CE590>>\n"
     ]
    }
   ],
   "source": [
    "class simpleClass:\n",
    "    'welcome to our 1st example'\n",
    "    name='Jitesh'\n",
    "    def myFun(self):\n",
    "        print('Glad to meet you!')\n",
    "        \n",
    "obj=simpleClass() #creat new class using object\n",
    "        \n",
    "print(simpleClass.__doc__) #__doc__ gives us the docstring of that class.\n",
    "        \n",
    "print(simpleClass.name)\n",
    "\n",
    "print(simpleClass.myFun) #simpleClass.myFun is a function object (attribute of class),\n",
    "\n",
    "print(obj.myFun)         #obj.myFun is method object"
   ]
  },
  {
   "cell_type": "code",
   "execution_count": 7,
   "metadata": {},
   "outputs": [
    {
     "name": "stdout",
     "output_type": "stream",
     "text": [
      "the complex no. is 2+5j\n",
      "10 5 0\n"
     ]
    }
   ],
   "source": [
    "#Constructors in Python __init__\n",
    "class ComplexNumber:\n",
    "    def __init__(self,real,img):\n",
    "        self.real=real\n",
    "        self.img=img\n",
    "        \n",
    "    def getData(self):\n",
    "        print('the complex no. is {0}+{1}j'.format(self.real,self.img))\n",
    "        \n",
    "c1=ComplexNumber(2,5)\n",
    "c1.getData()\n",
    "\n",
    "c2=ComplexNumber(5,0)\n",
    "\n",
    "c2.attr=10\n",
    "print(c2.attr,c2.real,c2.img)"
   ]
  },
  {
   "cell_type": "code",
   "execution_count": 8,
   "metadata": {},
   "outputs": [
    {
     "ename": "AttributeError",
     "evalue": "'ComplexNumber' object has no attribute 'getData'",
     "output_type": "error",
     "traceback": [
      "\u001b[1;31m---------------------------------------------------------------------------\u001b[0m",
      "\u001b[1;31mAttributeError\u001b[0m                            Traceback (most recent call last)",
      "\u001b[1;32m<ipython-input-8-c4de84fef393>\u001b[0m in \u001b[0;36m<module>\u001b[1;34m\u001b[0m\n\u001b[0;32m      1\u001b[0m \u001b[1;32mdel\u001b[0m \u001b[0mComplexNumber\u001b[0m\u001b[1;33m.\u001b[0m\u001b[0mgetData\u001b[0m\u001b[1;33m\u001b[0m\u001b[1;33m\u001b[0m\u001b[0m\n\u001b[1;32m----> 2\u001b[1;33m \u001b[0mc1\u001b[0m\u001b[1;33m.\u001b[0m\u001b[0mgetData\u001b[0m\u001b[1;33m(\u001b[0m\u001b[1;33m)\u001b[0m\u001b[1;33m\u001b[0m\u001b[1;33m\u001b[0m\u001b[0m\n\u001b[0m",
      "\u001b[1;31mAttributeError\u001b[0m: 'ComplexNumber' object has no attribute 'getData'"
     ]
    }
   ],
   "source": [
    "del ComplexNumber.getData\n",
    "c1.getData()"
   ]
  },
  {
   "cell_type": "code",
   "execution_count": 9,
   "metadata": {},
   "outputs": [
    {
     "ename": "NameError",
     "evalue": "name 'c1' is not defined",
     "output_type": "error",
     "traceback": [
      "\u001b[1;31m---------------------------------------------------------------------------\u001b[0m",
      "\u001b[1;31mNameError\u001b[0m                                 Traceback (most recent call last)",
      "\u001b[1;32m<ipython-input-9-85081af54bce>\u001b[0m in \u001b[0;36m<module>\u001b[1;34m\u001b[0m\n\u001b[0;32m      1\u001b[0m \u001b[0mc1\u001b[0m \u001b[1;33m=\u001b[0m \u001b[0mComplexNumber\u001b[0m\u001b[1;33m(\u001b[0m\u001b[1;36m1\u001b[0m\u001b[1;33m,\u001b[0m\u001b[1;36m3\u001b[0m\u001b[1;33m)\u001b[0m\u001b[1;33m\u001b[0m\u001b[1;33m\u001b[0m\u001b[0m\n\u001b[0;32m      2\u001b[0m \u001b[1;32mdel\u001b[0m \u001b[0mc1\u001b[0m\u001b[1;33m\u001b[0m\u001b[1;33m\u001b[0m\u001b[0m\n\u001b[1;32m----> 3\u001b[1;33m \u001b[0mc1\u001b[0m\u001b[1;33m\u001b[0m\u001b[1;33m\u001b[0m\u001b[0m\n\u001b[0m",
      "\u001b[1;31mNameError\u001b[0m: name 'c1' is not defined"
     ]
    }
   ],
   "source": [
    "c1 = ComplexNumber(1,3)\n",
    "del c1\n",
    "c1"
   ]
  },
  {
   "cell_type": "code",
   "execution_count": 10,
   "metadata": {},
   "outputs": [
    {
     "name": "stdout",
     "output_type": "stream",
     "text": [
      "Bamboo is blowing fast in wind\n"
     ]
    }
   ],
   "source": [
    "# Creating Methods in Python\n",
    "class Tree:\n",
    "    def __init__(self,name,height):\n",
    "        self.name=name\n",
    "        self.height=height\n",
    "        \n",
    "    def blow(self,blowing):  #method\n",
    "        return \"{} is blowing {} in wind\".format(self.name,blowing)\n",
    "    \n",
    "#instantiate the object\n",
    "bamboo=Tree('Bamboo',220)\n",
    "\n",
    "# call our instance methods\n",
    "print(bamboo.blow('fast'))\n"
   ]
  },
  {
   "cell_type": "code",
   "execution_count": 32,
   "metadata": {},
   "outputs": [
    {
     "name": "stdout",
     "output_type": "stream",
     "text": [
      "Bird is ready\n",
      "Penguin is ready\n",
      "Penguin\n",
      "Swim faster\n",
      "Run faster\n"
     ]
    }
   ],
   "source": [
    "# parent class\n",
    "class Bird:\n",
    "    \n",
    "    def __init__(self):\n",
    "        print(\"Bird is ready\")\n",
    "\n",
    "    def whoisThis(self):\n",
    "        print(\"Bird\")\n",
    "\n",
    "    def swim(self):\n",
    "        print(\"Swim faster\")\n",
    "\n",
    "# child class\n",
    "class Penguin(Bird):\n",
    "\n",
    "    def __init__(self):\n",
    "        # call super() function\n",
    "        super().__init__()\n",
    "        print(\"Penguin is ready\")\n",
    "\n",
    "    def whoisThis(self):\n",
    "        print(\"Penguin\")\n",
    "\n",
    "    def run(self):\n",
    "        print(\"Run faster\")\n",
    "\n",
    "peggy = Penguin()\n",
    "peggy.whoisThis()\n",
    "peggy.swim()\n",
    "peggy.run()"
   ]
  },
  {
   "cell_type": "code",
   "execution_count": 37,
   "metadata": {},
   "outputs": [
    {
     "name": "stdout",
     "output_type": "stream",
     "text": [
      "Max price is 400.\n",
      "Max price is 1000.\n",
      "Max price is 2000.\n"
     ]
    }
   ],
   "source": [
    "# Data Encapsulation in Python\n",
    "class Car:\n",
    "    def __init__(self):\n",
    "        self.maxprice=400\n",
    "        \n",
    "    def sellprice(self):\n",
    "        print('Max price is {}.'.format(self.maxprice))\n",
    "        \n",
    "    def setMaxprice(self,price):\n",
    "        self.maxprice=price\n",
    "        \n",
    "c=Car()\n",
    "c.sellprice()\n",
    "\n",
    "# change the price\n",
    "c.maxprice=1000\n",
    "c.sellprice()\n",
    "\n",
    "#using setter method\n",
    "c.setMaxprice(2000)\n",
    "c.sellprice()"
   ]
  },
  {
   "cell_type": "code",
   "execution_count": 1,
   "metadata": {},
   "outputs": [
    {
     "name": "stdout",
     "output_type": "stream",
     "text": [
      "dogs can bark\n",
      "cat cant bark\n"
     ]
    }
   ],
   "source": [
    "#Using Polymorphism in Python\n",
    "class dog:\n",
    "    def bark(self):\n",
    "        print('dogs can bark')\n",
    "        \n",
    "    def bite(self):\n",
    "        print('dogs can bite')\n",
    "        \n",
    "class cat:\n",
    "    def bark(self):\n",
    "        print('cat cant bark')\n",
    "        \n",
    "    def bite(self):\n",
    "        print('cat cant bite')\n",
    "        \n",
    "    \n",
    "# comman interface\n",
    "def bark_test(animal):\n",
    "    animal.bark()\n",
    "    \n",
    "#instantiate objects\n",
    "puppy=dog()\n",
    "meww=cat()\n",
    "\n",
    "# passing the object\n",
    "bark_test(puppy)\n",
    "bark_test(meww)"
   ]
  },
  {
   "cell_type": "markdown",
   "metadata": {},
   "source": [
    "### Example of Inheritance in Python"
   ]
  },
  {
   "cell_type": "code",
   "execution_count": 19,
   "metadata": {},
   "outputs": [],
   "source": [
    "class Polygon:\n",
    "    def __init__(self, no_of_sides):\n",
    "        self.n = no_of_sides\n",
    "        self.sides = [0 for i in range(no_of_sides)]\n",
    "    def inputSides(self):\n",
    "        self.sides = [float(input(\"Enter side \"+str(i+1)+\" : \")) for i in range(self.n)]\n",
    "    def dispSides(self):\n",
    "        for i in range(self.n):\n",
    "            print(\"Side\",i+1,\"is\",self.sides[i])\n",
    "            \n",
    "class Triangle(Polygon):\n",
    "    def __init__(self):\n",
    "        Polygon.__init__(self,3)\n",
    "    def findArea(self):\n",
    "        a, b, c = self.sides\n",
    "        # calculate the semi-perimeter\n",
    "        s = (a + b + c) / 2\n",
    "        area = (s*(s-a)*(s-b)*(s-c)) ** 0.5\n",
    "        print('The area of the triangle is %0.2f' %area)\n",
    "        \n",
    "class Rect(Polygon):\n",
    "    def __init__(self):\n",
    "        Polygon.__init__(self,4)\n",
    "    def findArea(self):\n",
    "        a,b,c,d=self.sides\n",
    "        area=a*b\n",
    "        if a==b==c==d:\n",
    "            print('the are of Sqaure is {}'.format(area))\n",
    "        else:\n",
    "            print('the are of Rectangle is {}'.format(area))\n",
    "            "
   ]
  },
  {
   "cell_type": "code",
   "execution_count": 24,
   "metadata": {},
   "outputs": [],
   "source": [
    "s=Rect()"
   ]
  },
  {
   "cell_type": "code",
   "execution_count": 25,
   "metadata": {},
   "outputs": [
    {
     "name": "stdout",
     "output_type": "stream",
     "text": [
      "Enter side 1 : 4\n",
      "Enter side 2 : 5\n",
      "Enter side 3 : 4\n",
      "Enter side 4 : 5\n"
     ]
    }
   ],
   "source": [
    "s.inputSides()"
   ]
  },
  {
   "cell_type": "code",
   "execution_count": 26,
   "metadata": {},
   "outputs": [
    {
     "name": "stdout",
     "output_type": "stream",
     "text": [
      "Side 1 is 4.0\n",
      "Side 2 is 5.0\n",
      "Side 3 is 4.0\n",
      "Side 4 is 5.0\n"
     ]
    }
   ],
   "source": [
    "s.dispSides()"
   ]
  },
  {
   "cell_type": "code",
   "execution_count": 27,
   "metadata": {},
   "outputs": [
    {
     "name": "stdout",
     "output_type": "stream",
     "text": [
      "the are of Rectangle is 20.0\n"
     ]
    }
   ],
   "source": [
    "s.findArea()"
   ]
  },
  {
   "cell_type": "code",
   "execution_count": null,
   "metadata": {},
   "outputs": [],
   "source": [
    "# super().__init__(3) is equivalent to Polygon.__init__(self,3)"
   ]
  },
  {
   "cell_type": "code",
   "execution_count": 30,
   "metadata": {},
   "outputs": [
    {
     "name": "stdout",
     "output_type": "stream",
     "text": [
      "True\n"
     ]
    }
   ],
   "source": [
    "print(isinstance(s,Rect)) #True if the object is an instance of the class"
   ]
  },
  {
   "cell_type": "code",
   "execution_count": 31,
   "metadata": {},
   "outputs": [
    {
     "name": "stdout",
     "output_type": "stream",
     "text": [
      "True\n"
     ]
    }
   ],
   "source": [
    "print(isinstance(s,Polygon))"
   ]
  },
  {
   "cell_type": "code",
   "execution_count": 32,
   "metadata": {},
   "outputs": [
    {
     "data": {
      "text/plain": [
       "False"
      ]
     },
     "execution_count": 32,
     "metadata": {},
     "output_type": "execute_result"
    }
   ],
   "source": [
    "issubclass(Polygon,Triangle)"
   ]
  },
  {
   "cell_type": "code",
   "execution_count": 33,
   "metadata": {},
   "outputs": [
    {
     "data": {
      "text/plain": [
       "True"
      ]
     },
     "execution_count": 33,
     "metadata": {},
     "output_type": "execute_result"
    }
   ],
   "source": [
    "issubclass(Triangle,Polygon)"
   ]
  },
  {
   "cell_type": "code",
   "execution_count": 34,
   "metadata": {},
   "outputs": [
    {
     "data": {
      "text/plain": [
       "True"
      ]
     },
     "execution_count": 34,
     "metadata": {},
     "output_type": "execute_result"
    }
   ],
   "source": [
    "issubclass(bool,int)"
   ]
  },
  {
   "cell_type": "code",
   "execution_count": 35,
   "metadata": {},
   "outputs": [
    {
     "name": "stdout",
     "output_type": "stream",
     "text": [
      "True\n",
      "True\n",
      "True\n"
     ]
    }
   ],
   "source": [
    "# Output: True\n",
    "print(issubclass(list,object))\n",
    "\n",
    "# Output: True\n",
    "print(isinstance(5.5,object))\n",
    "\n",
    "# Output: True\n",
    "print(isinstance(\"Hello\",object))"
   ]
  },
  {
   "cell_type": "code",
   "execution_count": 36,
   "metadata": {},
   "outputs": [
    {
     "name": "stdout",
     "output_type": "stream",
     "text": [
      "[<class '__main__.M'>, <class '__main__.B'>, <class '__main__.A'>, <class '__main__.X'>, <class '__main__.Y'>, <class '__main__.Z'>, <class 'object'>]\n"
     ]
    }
   ],
   "source": [
    "# Method Resolution Order (MRO).\n",
    "class X: pass\n",
    "class Y: pass\n",
    "class Z: pass\n",
    "\n",
    "class A(X,Y): pass\n",
    "class B(Y,Z): pass\n",
    "\n",
    "class M(B,A,Z): pass\n",
    "\n",
    "print(M.mro())"
   ]
  },
  {
   "cell_type": "code",
   "execution_count": 62,
   "metadata": {},
   "outputs": [],
   "source": [
    "class point:\n",
    "    def __init__(self,x=0,y=0):\n",
    "        self.x=x\n",
    "        self.y=y\n",
    "        \n",
    "    def __add__(self,other):\n",
    "        x=self.x+other.x\n",
    "        y=self.y+other.y\n",
    "        return point(x,y)\n",
    "    \n",
    "    def __sub__(self,other):\n",
    "        x=self.x-other.x\n",
    "        y=self.y-other.y\n",
    "        return point(x,y)\n",
    "    \n",
    "    def __lt__(self,other):\n",
    "        self_mag = (self.x ** 2) + (self.y ** 2)\n",
    "        other_mag = (other.x ** 2) + (other.y ** 2)\n",
    "        return self_mag < other_mag\n",
    "    \n",
    "    def __str__(self):\n",
    "        return \"({0},{1})\".format(self.x,self.y)"
   ]
  },
  {
   "cell_type": "code",
   "execution_count": 64,
   "metadata": {},
   "outputs": [
    {
     "name": "stdout",
     "output_type": "stream",
     "text": [
      "(4,6)\n",
      "(-2,-2)\n",
      "True\n"
     ]
    }
   ],
   "source": [
    "p1=point(1,2)\n",
    "p2=point(3,4)\n",
    "print((p1+p2))\n",
    "print(p1-p2)\n",
    "print(point(1,1) < point(-2,-3))"
   ]
  },
  {
   "cell_type": "code",
   "execution_count": 2,
   "metadata": {},
   "outputs": [],
   "source": [
    "class myEmail:\n",
    "    def __init__(self):\n",
    "        self.mail_sent=False\n",
    "    def send_mail(self):\n",
    "        self.mail_sent=True"
   ]
  },
  {
   "cell_type": "code",
   "execution_count": 3,
   "metadata": {},
   "outputs": [
    {
     "data": {
      "text/plain": [
       "False"
      ]
     },
     "execution_count": 3,
     "metadata": {},
     "output_type": "execute_result"
    }
   ],
   "source": [
    "my_mail=myEmail()\n",
    "my_mail.mail_sent"
   ]
  },
  {
   "cell_type": "code",
   "execution_count": 5,
   "metadata": {},
   "outputs": [
    {
     "data": {
      "text/plain": [
       "True"
      ]
     },
     "execution_count": 5,
     "metadata": {},
     "output_type": "execute_result"
    }
   ],
   "source": [
    "my_mail.send_mail()\n",
    "my_mail.mail_sent"
   ]
  },
  {
   "cell_type": "code",
   "execution_count": null,
   "metadata": {},
   "outputs": [],
   "source": []
  },
  {
   "cell_type": "code",
   "execution_count": null,
   "metadata": {},
   "outputs": [],
   "source": []
  },
  {
   "cell_type": "code",
   "execution_count": null,
   "metadata": {},
   "outputs": [],
   "source": []
  },
  {
   "cell_type": "code",
   "execution_count": null,
   "metadata": {},
   "outputs": [],
   "source": []
  },
  {
   "cell_type": "code",
   "execution_count": null,
   "metadata": {},
   "outputs": [],
   "source": []
  },
  {
   "cell_type": "code",
   "execution_count": null,
   "metadata": {},
   "outputs": [],
   "source": []
  },
  {
   "cell_type": "code",
   "execution_count": null,
   "metadata": {},
   "outputs": [],
   "source": []
  }
 ],
 "metadata": {
  "kernelspec": {
   "display_name": "Python 3",
   "language": "python",
   "name": "python3"
  },
  "language_info": {
   "codemirror_mode": {
    "name": "ipython",
    "version": 3
   },
   "file_extension": ".py",
   "mimetype": "text/x-python",
   "name": "python",
   "nbconvert_exporter": "python",
   "pygments_lexer": "ipython3",
   "version": "3.7.3"
  }
 },
 "nbformat": 4,
 "nbformat_minor": 2
}
