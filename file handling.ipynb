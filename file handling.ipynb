{
 "cells": [
  {
   "cell_type": "code",
   "execution_count": 1,
   "metadata": {},
   "outputs": [
    {
     "data": {
      "text/plain": [
       "'c\\\\user\\\\desktop'"
      ]
     },
     "execution_count": 1,
     "metadata": {},
     "output_type": "execute_result"
    }
   ],
   "source": [
    "import os \n",
    "os.path.join('c','user','desktop') # gives string join to form path wrt you os system"
   ]
  },
  {
   "cell_type": "code",
   "execution_count": 10,
   "metadata": {},
   "outputs": [
    {
     "name": "stdout",
     "output_type": "stream",
     "text": [
      "C:\\Users\\Jitesh\n",
      "C:\\Users\\Jitesh\n"
     ]
    }
   ],
   "source": [
    "# get current working directory(cwd)\n",
    "print(os.getcwd())\n",
    "\n",
    "# change cwd\n",
    "os.chdir('C:\\\\Users\\\\Jitesh')\n",
    "print(os.getcwd())"
   ]
  },
  {
   "cell_type": "code",
   "execution_count": 11,
   "metadata": {},
   "outputs": [
    {
     "name": "stdout",
     "output_type": "stream",
     "text": [
      "F:\\Python\n"
     ]
    }
   ],
   "source": [
    "os.chdir('F:\\Python')\n",
    "print(os.getcwd())"
   ]
  },
  {
   "cell_type": "code",
   "execution_count": 12,
   "metadata": {},
   "outputs": [],
   "source": [
    "# A single period (“dot”) for a folder name is shorthand for “this directory.”\n",
    "#Two periods (“dot-dot”) means “the parent folder.”\n",
    "# Creating New Folders with os.makedirs()\n",
    "os.makedirs('F:\\\\python\\\\hello')"
   ]
  },
  {
   "cell_type": "code",
   "execution_count": 17,
   "metadata": {},
   "outputs": [
    {
     "name": "stdout",
     "output_type": "stream",
     "text": [
      "F:\\Python\n",
      "F:\\Python\\Scripts\n",
      "False\n",
      "True\n"
     ]
    }
   ],
   "source": [
    "# Handling Absolute and Relative Paths\n",
    "print(os.path.abspath('.'))\n",
    "print(os.path.abspath('.\\\\Scripts'))\n",
    "print(os.path.isabs('.'))\n",
    "print(os.path.isabs(os.path.abspath('.')))"
   ]
  },
  {
   "cell_type": "code",
   "execution_count": 19,
   "metadata": {},
   "outputs": [
    {
     "name": "stdout",
     "output_type": "stream",
     "text": [
      "Windows\n",
      "..\\..\\Windows\n"
     ]
    }
   ],
   "source": [
    "print(os.path.relpath('C:\\\\Windows', 'C:\\\\'))\n",
    "print(os.path.relpath('C:\\\\Windows', 'C:\\\\spam\\\\eggs'))"
   ]
  },
  {
   "cell_type": "code",
   "execution_count": 20,
   "metadata": {},
   "outputs": [
    {
     "name": "stdout",
     "output_type": "stream",
     "text": [
      "calc.exe\n",
      "C:\\Windows\\System32\n"
     ]
    }
   ],
   "source": [
    "# basename & directory name\n",
    "path = 'C:\\\\Windows\\\\System32\\\\calc.exe'\n",
    "print(os.path.basename(path))\n",
    "print(os.path.dirname(path))"
   ]
  },
  {
   "cell_type": "code",
   "execution_count": 22,
   "metadata": {},
   "outputs": [
    {
     "name": "stdout",
     "output_type": "stream",
     "text": [
      "('C:\\\\Windows\\\\System32', 'calc.exe')\n"
     ]
    }
   ],
   "source": [
    "Path = 'C:\\\\Windows\\\\System32\\\\calc.exe'\n",
    "print(os.path.split(Path))"
   ]
  },
  {
   "cell_type": "code",
   "execution_count": 25,
   "metadata": {},
   "outputs": [
    {
     "name": "stdout",
     "output_type": "stream",
     "text": [
      "['C:', 'Windows', 'System32', 'calc.exe']\n"
     ]
    }
   ],
   "source": [
    "Path = 'C:\\\\Windows\\\\System32\\\\calc.exe'\n",
    "print(Path.split(os.path.sep))"
   ]
  },
  {
   "cell_type": "code",
   "execution_count": 28,
   "metadata": {},
   "outputs": [
    {
     "name": "stdout",
     "output_type": "stream",
     "text": [
      "4096\n",
      "['.idea', '.ipynb_checkpoints', 'adult', 'bank-additional', 'data.csv', 'Dragon Real Estates.ipynb', 'Dragon.joblib', 'hackaton', 'hello', 'housing.data', 'housing.names', 'iris (1).names', 'iris.data', 'iriss.csv', 'IRISSSSS ML.ipynb', 'linear regre eg.ipynb', 'Linear regression.ipynb', 'Model Usage.ipynb', 'nyc_weather.csv', 'Outputs from different models', 'pandas series', 'potential-enigma-master', 'Practice', 'projects', 'raw_files', 'venv', '__MACOSX']\n"
     ]
    }
   ],
   "source": [
    "# the file size in bytes \n",
    "print(os.getcwd())\n",
    "print(os.path.getsize(os.getcwd()))\n",
    "print(os.listdir(os.getcwd())) # files folder names"
   ]
  },
  {
   "cell_type": "code",
   "execution_count": 35,
   "metadata": {},
   "outputs": [
    {
     "ename": "FileNotFoundError",
     "evalue": "[WinError 2] The system cannot find the file specified: 'F:\\\\scilab\\\\details.csv'",
     "output_type": "error",
     "traceback": [
      "\u001b[1;31m---------------------------------------------------------------------------\u001b[0m",
      "\u001b[1;31mFileNotFoundError\u001b[0m                         Traceback (most recent call last)",
      "\u001b[1;32m<ipython-input-35-9fcf611c88b2>\u001b[0m in \u001b[0;36m<module>\u001b[1;34m\u001b[0m\n\u001b[0;32m      2\u001b[0m \u001b[0mpath\u001b[0m\u001b[1;33m=\u001b[0m\u001b[1;34m'F:\\\\scilab'\u001b[0m\u001b[1;33m\u001b[0m\u001b[1;33m\u001b[0m\u001b[0m\n\u001b[0;32m      3\u001b[0m \u001b[1;32mfor\u001b[0m \u001b[0mfile\u001b[0m \u001b[1;32min\u001b[0m \u001b[0mpath\u001b[0m\u001b[1;33m:\u001b[0m\u001b[1;33m\u001b[0m\u001b[1;33m\u001b[0m\u001b[0m\n\u001b[1;32m----> 4\u001b[1;33m     \u001b[0mtotalSize\u001b[0m\u001b[1;33m+=\u001b[0m\u001b[0mos\u001b[0m\u001b[1;33m.\u001b[0m\u001b[0mpath\u001b[0m\u001b[1;33m.\u001b[0m\u001b[0mgetsize\u001b[0m\u001b[1;33m(\u001b[0m\u001b[0mos\u001b[0m\u001b[1;33m.\u001b[0m\u001b[0mpath\u001b[0m\u001b[1;33m.\u001b[0m\u001b[0mjoin\u001b[0m\u001b[1;33m(\u001b[0m\u001b[0mpath\u001b[0m\u001b[1;33m,\u001b[0m \u001b[0mfilename\u001b[0m\u001b[1;33m)\u001b[0m\u001b[1;33m)\u001b[0m\u001b[1;33m\u001b[0m\u001b[1;33m\u001b[0m\u001b[0m\n\u001b[0m\u001b[0;32m      5\u001b[0m \u001b[0mprint\u001b[0m\u001b[1;33m(\u001b[0m\u001b[0mtotalSize\u001b[0m\u001b[1;33m)\u001b[0m\u001b[1;33m\u001b[0m\u001b[1;33m\u001b[0m\u001b[0m\n",
      "\u001b[1;32mc:\\users\\jitesh\\appdata\\local\\programs\\python\\python37-32\\lib\\genericpath.py\u001b[0m in \u001b[0;36mgetsize\u001b[1;34m(filename)\u001b[0m\n\u001b[0;32m     48\u001b[0m \u001b[1;32mdef\u001b[0m \u001b[0mgetsize\u001b[0m\u001b[1;33m(\u001b[0m\u001b[0mfilename\u001b[0m\u001b[1;33m)\u001b[0m\u001b[1;33m:\u001b[0m\u001b[1;33m\u001b[0m\u001b[1;33m\u001b[0m\u001b[0m\n\u001b[0;32m     49\u001b[0m     \u001b[1;34m\"\"\"Return the size of a file, reported by os.stat().\"\"\"\u001b[0m\u001b[1;33m\u001b[0m\u001b[1;33m\u001b[0m\u001b[0m\n\u001b[1;32m---> 50\u001b[1;33m     \u001b[1;32mreturn\u001b[0m \u001b[0mos\u001b[0m\u001b[1;33m.\u001b[0m\u001b[0mstat\u001b[0m\u001b[1;33m(\u001b[0m\u001b[0mfilename\u001b[0m\u001b[1;33m)\u001b[0m\u001b[1;33m.\u001b[0m\u001b[0mst_size\u001b[0m\u001b[1;33m\u001b[0m\u001b[1;33m\u001b[0m\u001b[0m\n\u001b[0m\u001b[0;32m     51\u001b[0m \u001b[1;33m\u001b[0m\u001b[0m\n\u001b[0;32m     52\u001b[0m \u001b[1;33m\u001b[0m\u001b[0m\n",
      "\u001b[1;31mFileNotFoundError\u001b[0m: [WinError 2] The system cannot find the file specified: 'F:\\\\scilab\\\\details.csv'"
     ]
    }
   ],
   "source": [
    "totalSize = 0\n",
    "path='F:\\\\scilab'\n",
    "for file in path:\n",
    "    totalSize+=os.path.getsize(os.path.join(path, filename))\n",
    "print(totalSize)"
   ]
  },
  {
   "cell_type": "code",
   "execution_count": 3,
   "metadata": {},
   "outputs": [
    {
     "name": "stdout",
     "output_type": "stream",
     "text": [
      "True\n",
      "True\n",
      "True\n",
      "False\n"
     ]
    }
   ],
   "source": [
    "# Checking Path Validity\n",
    "import os\n",
    "print(os.path.exists('C:\\\\Windows'))\n",
    "print(os.path.isdir('C:\\\\Windows\\\\System32'))\n",
    "print(os.path.isfile('F:\\Python\\iris.data'))\n",
    "print(os.path.isdir('F:\\Python\\iris.data'))"
   ]
  },
  {
   "cell_type": "code",
   "execution_count": 6,
   "metadata": {},
   "outputs": [
    {
     "name": "stdout",
     "output_type": "stream",
     "text": [
      "5.1,3.5,1.4,0.2,Iris-setosa\n",
      " 4.9,3.0,1.4,0.2,Iris-setosa\n",
      " 4.7,3.2,1.3,0.2,Iris-setosa\n",
      " 4.6,3.1,1.5,0.2,Iris-setosa\n",
      " 5.0,3.6,1.4,0.2,Iris-setosa\n",
      " 5.4,3.9,1.7,0.4,Iris-setosa\n",
      " 4.6,3.4,1.4,0.3,Iris-setosa\n",
      " 5.0,3.4,1.5,0.2,Iris-setosa\n",
      " 4.4,2.9,1.4,0.2,Iris-setosa\n",
      " 4.9,3.1,1.5,0.1,Iris-setosa\n",
      " 5.4,3.7,1.5,0.2,Iris-setosa\n",
      " 4.8,3.4,1.6,0.2,Iris-setosa\n",
      " 4.8,3.0,1.4,0.1,Iris-setosa\n",
      " 4.3,3.0,1.1,0.1,Iris-setosa\n",
      " 5.8,4.0,1.2,0.2,Iris-setosa\n",
      " 5.7,4.4,1.5,0.4,Iris-setosa\n",
      " 5.4,3.9,1.3,0.4,Iris-setosa\n",
      " 5.1,3.5,1.4,0.3,Iris-setosa\n",
      " 5.7,3.8,1.7,0.3,Iris-setosa\n",
      " 5.1,3.8,1.5,0.3,Iris-setosa\n",
      " 5.4,3.4,1.7,0.2,Iris-setosa\n",
      " 5.1,3.7,1.5,0.4,Iris-setosa\n",
      " 4.6,3.6,1.0,0.2,Iris-setosa\n",
      " 5.1,3.3,1.7,0.5,Iris-setosa\n",
      " 4.8,3.4,1.9,0.2,Iris-setosa\n",
      " 5.0,3.0,1.6,0.2,Iris-setosa\n",
      " 5.0,3.4,1.6,0.4,Iris-setosa\n",
      " 5.2,3.5,1.5,0.2,Iris-setosa\n",
      " 5.2,3.4,1.4,0.2,Iris-setosa\n",
      " 4.7,3.2,1.6,0.2,Iris-setosa\n",
      " 4.8,3.1,1.6,0.2,Iris-setosa\n",
      " 5.4,3.4,1.5,0.4,Iris-setosa\n",
      " 5.2,4.1,1.5,0.1,Iris-setosa\n",
      " 5.5,4.2,1.4,0.2,Iris-setosa\n",
      " 4.9,3.1,1.5,0.1,Iris-setosa\n",
      " 5.0,3.2,1.2,0.2,Iris-setosa\n",
      " 5.5,3.5,1.3,0.2,Iris-setosa\n",
      " 4.9,3.1,1.5,0.1,Iris-setosa\n",
      " 4.4,3.0,1.3,0.2,Iris-setosa\n",
      " 5.1,3.4,1.5,0.2,Iris-setosa\n",
      " 5.0,3.5,1.3,0.3,Iris-setosa\n",
      " 4.5,2.3,1.3,0.3,Iris-setosa\n",
      " 4.4,3.2,1.3,0.2,Iris-setosa\n",
      " 5.0,3.5,1.6,0.6,Iris-setosa\n",
      " 5.1,3.8,1.9,0.4,Iris-setosa\n",
      " 4.8,3.0,1.4,0.3,Iris-setosa\n",
      " 5.1,3.8,1.6,0.2,Iris-setosa\n",
      " 4.6,3.2,1.4,0.2,Iris-setosa\n",
      " 5.3,3.7,1.5,0.2,Iris-setosa\n",
      " 5.0,3.3,1.4,0.2,Iris-setosa\n",
      " 7.0,3.2,4.7,1.4,Iris-versicolor\n",
      " 6.4,3.2,4.5,1.5,Iris-versicolor\n",
      " 6.9,3.1,4.9,1.5,Iris-versicolor\n",
      " 5.5,2.3,4.0,1.3,Iris-versicolor\n",
      " 6.5,2.8,4.6,1.5,Iris-versicolor\n",
      " 5.7,2.8,4.5,1.3,Iris-versicolor\n",
      " 6.3,3.3,4.7,1.6,Iris-versicolor\n",
      " 4.9,2.4,3.3,1.0,Iris-versicolor\n",
      " 6.6,2.9,4.6,1.3,Iris-versicolor\n",
      " 5.2,2.7,3.9,1.4,Iris-versicolor\n",
      " 5.0,2.0,3.5,1.0,Iris-versicolor\n",
      " 5.9,3.0,4.2,1.5,Iris-versicolor\n",
      " 6.0,2.2,4.0,1.0,Iris-versicolor\n",
      " 6.1,2.9,4.7,1.4,Iris-versicolor\n",
      " 5.6,2.9,3.6,1.3,Iris-versicolor\n",
      " 6.7,3.1,4.4,1.4,Iris-versicolor\n",
      " 5.6,3.0,4.5,1.5,Iris-versicolor\n",
      " 5.8,2.7,4.1,1.0,Iris-versicolor\n",
      " 6.2,2.2,4.5,1.5,Iris-versicolor\n",
      " 5.6,2.5,3.9,1.1,Iris-versicolor\n",
      " 5.9,3.2,4.8,1.8,Iris-versicolor\n",
      " 6.1,2.8,4.0,1.3,Iris-versicolor\n",
      " 6.3,2.5,4.9,1.5,Iris-versicolor\n",
      " 6.1,2.8,4.7,1.2,Iris-versicolor\n",
      " 6.4,2.9,4.3,1.3,Iris-versicolor\n",
      " 6.6,3.0,4.4,1.4,Iris-versicolor\n",
      " 6.8,2.8,4.8,1.4,Iris-versicolor\n",
      " 6.7,3.0,5.0,1.7,Iris-versicolor\n",
      " 6.0,2.9,4.5,1.5,Iris-versicolor\n",
      " 5.7,2.6,3.5,1.0,Iris-versicolor\n",
      " 5.5,2.4,3.8,1.1,Iris-versicolor\n",
      " 5.5,2.4,3.7,1.0,Iris-versicolor\n",
      " 5.8,2.7,3.9,1.2,Iris-versicolor\n",
      " 6.0,2.7,5.1,1.6,Iris-versicolor\n",
      " 5.4,3.0,4.5,1.5,Iris-versicolor\n",
      " 6.0,3.4,4.5,1.6,Iris-versicolor\n",
      " 6.7,3.1,4.7,1.5,Iris-versicolor\n",
      " 6.3,2.3,4.4,1.3,Iris-versicolor\n",
      " 5.6,3.0,4.1,1.3,Iris-versicolor\n",
      " 5.5,2.5,4.0,1.3,Iris-versicolor\n",
      " 5.5,2.6,4.4,1.2,Iris-versicolor\n",
      " 6.1,3.0,4.6,1.4,Iris-versicolor\n",
      " 5.8,2.6,4.0,1.2,Iris-versicolor\n",
      " 5.0,2.3,3.3,1.0,Iris-versicolor\n",
      " 5.6,2.7,4.2,1.3,Iris-versicolor\n",
      " 5.7,3.0,4.2,1.2,Iris-versicolor\n",
      " 5.7,2.9,4.2,1.3,Iris-versicolor\n",
      " 6.2,2.9,4.3,1.3,Iris-versicolor\n",
      " 5.1,2.5,3.0,1.1,Iris-versicolor\n",
      " 5.7,2.8,4.1,1.3,Iris-versicolor\n",
      " 6.3,3.3,6.0,2.5,Iris-virginica\n",
      " 5.8,2.7,5.1,1.9,Iris-virginica\n",
      " 7.1,3.0,5.9,2.1,Iris-virginica\n",
      " 6.3,2.9,5.6,1.8,Iris-virginica\n",
      " 6.5,3.0,5.8,2.2,Iris-virginica\n",
      " 7.6,3.0,6.6,2.1,Iris-virginica\n",
      " 4.9,2.5,4.5,1.7,Iris-virginica\n",
      " 7.3,2.9,6.3,1.8,Iris-virginica\n",
      " 6.7,2.5,5.8,1.8,Iris-virginica\n",
      " 7.2,3.6,6.1,2.5,Iris-virginica\n",
      " 6.5,3.2,5.1,2.0,Iris-virginica\n",
      " 6.4,2.7,5.3,1.9,Iris-virginica\n",
      " 6.8,3.0,5.5,2.1,Iris-virginica\n",
      " 5.7,2.5,5.0,2.0,Iris-virginica\n",
      " 5.8,2.8,5.1,2.4,Iris-virginica\n",
      " 6.4,3.2,5.3,2.3,Iris-virginica\n",
      " 6.5,3.0,5.5,1.8,Iris-virginica\n",
      " 7.7,3.8,6.7,2.2,Iris-virginica\n",
      " 7.7,2.6,6.9,2.3,Iris-virginica\n",
      " 6.0,2.2,5.0,1.5,Iris-virginica\n",
      " 6.9,3.2,5.7,2.3,Iris-virginica\n",
      " 5.6,2.8,4.9,2.0,Iris-virginica\n",
      " 7.7,2.8,6.7,2.0,Iris-virginica\n",
      " 6.3,2.7,4.9,1.8,Iris-virginica\n",
      " 6.7,3.3,5.7,2.1,Iris-virginica\n",
      " 7.2,3.2,6.0,1.8,Iris-virginica\n",
      " 6.2,2.8,4.8,1.8,Iris-virginica\n",
      " 6.1,3.0,4.9,1.8,Iris-virginica\n",
      " 6.4,2.8,5.6,2.1,Iris-virginica\n",
      " 7.2,3.0,5.8,1.6,Iris-virginica\n",
      " 7.4,2.8,6.1,1.9,Iris-virginica\n",
      " 7.9,3.8,6.4,2.0,Iris-virginica\n",
      " 6.4,2.8,5.6,2.2,Iris-virginica\n",
      " 6.3,2.8,5.1,1.5,Iris-virginica\n",
      " 6.1,2.6,5.6,1.4,Iris-virginica\n",
      " 7.7,3.0,6.1,2.3,Iris-virginica\n",
      " 6.3,3.4,5.6,2.4,Iris-virginica\n",
      " 6.4,3.1,5.5,1.8,Iris-virginica\n",
      " 6.0,3.0,4.8,1.8,Iris-virginica\n",
      " 6.9,3.1,5.4,2.1,Iris-virginica\n",
      " 6.7,3.1,5.6,2.4,Iris-virginica\n",
      " 6.9,3.1,5.1,2.3,Iris-virginica\n",
      " 5.8,2.7,5.1,1.9,Iris-virginica\n",
      " 6.8,3.2,5.9,2.3,Iris-virginica\n",
      " 6.7,3.3,5.7,2.5,Iris-virginica\n",
      " 6.7,3.0,5.2,2.3,Iris-virginica\n",
      " 6.3,2.5,5.0,1.9,Iris-virginica\n",
      " 6.5,3.0,5.2,2.0,Iris-virginica\n",
      " 6.2,3.4,5.4,2.3,Iris-virginica\n",
      " 5.9,3.0,5.1,1.8,Iris-virginica\n",
      " \n",
      "\n"
     ]
    }
   ],
   "source": [
    "# Opening Files with the open() Function\n",
    "helloFile = open('F:\\Python\\iris.data')\n",
    "print(*helloFile)"
   ]
  },
  {
   "cell_type": "code",
   "execution_count": 10,
   "metadata": {},
   "outputs": [
    {
     "data": {
      "text/plain": [
       "''"
      ]
     },
     "execution_count": 10,
     "metadata": {},
     "output_type": "execute_result"
    }
   ],
   "source": [
    "helloContent = helloFile.read()\n",
    "helloContent"
   ]
  },
  {
   "cell_type": "code",
   "execution_count": 16,
   "metadata": {},
   "outputs": [
    {
     "name": "stdout",
     "output_type": "stream",
     "text": [
      "F:\\Python\\raw_files\n"
     ]
    }
   ],
   "source": [
    "os.chdir('F:\\\\Python\\\\raw_files')\n",
    "print(os.getcwd())"
   ]
  },
  {
   "cell_type": "code",
   "execution_count": 18,
   "metadata": {},
   "outputs": [
    {
     "data": {
      "text/plain": [
       "[\"When, in disgrace with fortune and men's eyes,\\n\",\n",
       " 'I all alone beweep my outcast state,\\n',\n",
       " 'And trouble deaf heaven with my bootless cries,\\n',\n",
       " 'And look upon myself and curse my fate,\\n']"
      ]
     },
     "execution_count": 18,
     "metadata": {},
     "output_type": "execute_result"
    }
   ],
   "source": [
    "file=open('file5.txt')\n",
    "file.readlines()"
   ]
  },
  {
   "cell_type": "code",
   "execution_count": 21,
   "metadata": {},
   "outputs": [],
   "source": [
    "# Writing to Files\n",
    "# If the filename passed to open() does not exist,\n",
    "#both write and append mode will create a new, blank file\n",
    "baconFile = open('bacon.txt', 'w')\n",
    "baconFile.write('Hello world!\\n')\n",
    "baconFile.close()"
   ]
  },
  {
   "cell_type": "code",
   "execution_count": 25,
   "metadata": {},
   "outputs": [],
   "source": [
    "baconFile = open('bacon.txt', 'a') # append mode\n",
    "baconFile.write('Bacon is not a vegetable.')\n",
    "baconFile.close()"
   ]
  },
  {
   "cell_type": "code",
   "execution_count": 29,
   "metadata": {},
   "outputs": [
    {
     "name": "stdout",
     "output_type": "stream",
     "text": [
      "Hello world!\n",
      "Bacon is not a vegetable.Bacon is not a vegetable.\n"
     ]
    }
   ],
   "source": [
    "baconFile = open('bacon.txt')\n",
    "content = baconFile.read()\n",
    "baconFile.close()\n",
    "print(content)"
   ]
  },
  {
   "cell_type": "markdown",
   "metadata": {},
   "source": [
    "##### Saving Variables with the shelve Module"
   ]
  },
  {
   "cell_type": "code",
   "execution_count": 30,
   "metadata": {},
   "outputs": [],
   "source": [
    "import shelve\n",
    "shelfFile = shelve.open('mydata')\n",
    "cats=['pinki','rina','puppy']\n",
    "shelfFile['cats'] = cats\n",
    "shelfFile.close"
   ]
  },
  {
   "cell_type": "code",
   "execution_count": 31,
   "metadata": {},
   "outputs": [
    {
     "name": "stdout",
     "output_type": "stream",
     "text": [
      "<class 'shelve.DbfilenameShelf'>\n",
      "['pinki', 'rina', 'puppy']\n"
     ]
    }
   ],
   "source": [
    "shelfFile = shelve.open('mydata')\n",
    "print(type(shelfFile))\n",
    "print(shelfFile['cats'])"
   ]
  },
  {
   "cell_type": "code",
   "execution_count": 32,
   "metadata": {},
   "outputs": [],
   "source": [
    "shelfFile.close()"
   ]
  },
  {
   "cell_type": "code",
   "execution_count": 34,
   "metadata": {},
   "outputs": [
    {
     "name": "stdout",
     "output_type": "stream",
     "text": [
      "['cats']\n",
      "[['pinki', 'rina', 'puppy']]\n"
     ]
    }
   ],
   "source": [
    "# Just like dictionaries, shelf values have keys() and values() methods that will\n",
    "shelfFile=shelve.open('mydata')\n",
    "print(list(shelfFile.keys()))\n",
    "print(list(shelfFile.values()))"
   ]
  },
  {
   "cell_type": "code",
   "execution_count": 35,
   "metadata": {},
   "outputs": [],
   "source": [
    "shelfFile.close()"
   ]
  },
  {
   "cell_type": "code",
   "execution_count": 36,
   "metadata": {},
   "outputs": [
    {
     "data": {
      "text/plain": [
       "\"[{'desc': 'chubby', 'name': 'Zophie'}, {'desc': 'fluffy', 'name': 'Pooka'}]\""
      ]
     },
     "execution_count": 36,
     "metadata": {},
     "output_type": "execute_result"
    }
   ],
   "source": [
    "# Saving Variables with the pprint.pformat() Function\n",
    "import pprint\n",
    "cats = [{'name': 'Zophie', 'desc': 'chubby'}, {'name': 'Pooka', 'desc': 'fluffy'}]\n",
    "pprint.pformat(cats)"
   ]
  },
  {
   "cell_type": "code",
   "execution_count": 37,
   "metadata": {},
   "outputs": [
    {
     "data": {
      "text/plain": [
       "83"
      ]
     },
     "execution_count": 37,
     "metadata": {},
     "output_type": "execute_result"
    }
   ],
   "source": [
    "fileObj = open('myCats.py', 'w')\n",
    "fileObj.write('cats = ' + pprint.pformat(cats) + '\\n')"
   ]
  },
  {
   "cell_type": "code",
   "execution_count": 40,
   "metadata": {},
   "outputs": [],
   "source": [
    "fileObj.close()"
   ]
  },
  {
   "cell_type": "code",
   "execution_count": 42,
   "metadata": {},
   "outputs": [
    {
     "name": "stdout",
     "output_type": "stream",
     "text": [
      "[{'desc': 'chubby', 'name': 'Zophie'}, {'desc': 'fluffy', 'name': 'Pooka'}]\n"
     ]
    }
   ],
   "source": [
    "import myCats\n",
    "print(myCats.cats)"
   ]
  },
  {
   "cell_type": "markdown",
   "metadata": {},
   "source": [
    "##### Copying Files and Folders The shutil module provides functions for copying files, as well as entire folders."
   ]
  },
  {
   "cell_type": "code",
   "execution_count": 2,
   "metadata": {},
   "outputs": [
    {
     "name": "stdout",
     "output_type": "stream",
     "text": [
      "F:\\Python\\Practice\n"
     ]
    }
   ],
   "source": [
    "import shutil, os\n",
    "print(os.getcwd())"
   ]
  },
  {
   "cell_type": "code",
   "execution_count": 5,
   "metadata": {},
   "outputs": [
    {
     "data": {
      "text/plain": [
       "'F:\\\\Python\\\\raw_files\\\\124.pdf'"
      ]
     },
     "execution_count": 5,
     "metadata": {},
     "output_type": "execute_result"
    }
   ],
   "source": [
    "# copying file , shutil.copy(source, destination)\n",
    "shutil.copy('F:\\\\PDF\\\\124.pdf',\"F:\\\\Python\\\\raw_files\")"
   ]
  },
  {
   "cell_type": "code",
   "execution_count": 7,
   "metadata": {},
   "outputs": [
    {
     "data": {
      "text/plain": [
       "'F:\\\\HTM_2'"
      ]
     },
     "execution_count": 7,
     "metadata": {},
     "output_type": "execute_result"
    }
   ],
   "source": [
    "#copying folder , shutil.copytree(source,dest)\n",
    "shutil.copytree('F:\\\\HTML','F:\\\\HTM_2') # creates new folder"
   ]
  },
  {
   "cell_type": "code",
   "execution_count": 10,
   "metadata": {},
   "outputs": [
    {
     "data": {
      "text/plain": [
       "'F:\\\\Python\\\\raw_files\\\\bacon.txt'"
      ]
     },
     "execution_count": 10,
     "metadata": {},
     "output_type": "execute_result"
    }
   ],
   "source": [
    "# Moving and Renaming Files and Folders\n",
    "shutil.move('F:\\\\PDF\\\\iris.data','F:\\\\Python\\\\raw_files\\\\bacon.txt') # bacon data was removed "
   ]
  },
  {
   "cell_type": "code",
   "execution_count": 11,
   "metadata": {},
   "outputs": [
    {
     "data": {
      "text/plain": [
       "'F:\\\\Python\\\\raw_files\\\\new_bacon.txt'"
      ]
     },
     "execution_count": 11,
     "metadata": {},
     "output_type": "execute_result"
    }
   ],
   "source": [
    "## renaming\n",
    "shutil.move('F:\\\\Python\\\\raw_files\\\\bacon.txt','F:\\\\Python\\\\raw_files\\\\new_bacon.txt')"
   ]
  },
  {
   "cell_type": "code",
   "execution_count": 12,
   "metadata": {},
   "outputs": [],
   "source": [
    "## Permanently Deleting Files and Folders\n",
    "# Calling os.unlink(path) will delete the file at path.\n",
    "os.unlink('F:\\\\Python\\\\raw_files\\\\124.pdf')"
   ]
  },
  {
   "cell_type": "code",
   "execution_count": 13,
   "metadata": {},
   "outputs": [],
   "source": [
    "# Calling os.rmdir(path) will delete the folder at path.\n",
    "#This folder must be empty of any files or folders.\n",
    "os.rmdir('F:\\\\Python\\\\hello')"
   ]
  },
  {
   "cell_type": "code",
   "execution_count": 15,
   "metadata": {},
   "outputs": [],
   "source": [
    "# shutil.rmtree(path) will remove the folder at path, and all\n",
    "# files and folders it contains will also be deleted.\n",
    "shutil.rmtree('F:\\\\Python\\\\raw')"
   ]
  },
  {
   "cell_type": "markdown",
   "metadata": {},
   "source": [
    "### Safe Deletes with the send2trash Module"
   ]
  },
  {
   "cell_type": "code",
   "execution_count": 16,
   "metadata": {},
   "outputs": [
    {
     "data": {
      "text/plain": [
       "15"
      ]
     },
     "execution_count": 16,
     "metadata": {},
     "output_type": "execute_result"
    }
   ],
   "source": [
    "import send2trash\n",
    "baconFile = open('bacon.txt', 'a') # creates the file\n",
    "baconFile.write('I am vegeterian')"
   ]
  },
  {
   "cell_type": "code",
   "execution_count": 17,
   "metadata": {},
   "outputs": [],
   "source": [
    "baconFile.close()\n",
    "send2trash.send2trash('bacon.txt')"
   ]
  },
  {
   "cell_type": "code",
   "execution_count": 23,
   "metadata": {},
   "outputs": [
    {
     "name": "stdout",
     "output_type": "stream",
     "text": [
      "('F:\\\\raw', ['HTML', 'HTM_2'], []) ('F:\\\\raw\\\\HTML', [], ['abbr.txt', 'Accept charset.txt', 'Accesskey.txt', 'Accesskey2.txt', 'allign.txt', 'Alt.txt', 'Axis.txt', 'charattibute.txt', 'New Text Document.txt', 'Resume.txt', 'Resumeop.html']) ('F:\\\\raw\\\\HTM_2', [], ['abbr.txt', 'Accept charset.txt', 'Accesskey.txt', 'Accesskey2.txt', 'allign.txt', 'Alt.txt', 'Axis.txt', 'charattibute.txt', 'New Text Document.txt', 'Resume.txt', 'Resumeop.html'])\n"
     ]
    }
   ],
   "source": [
    "print(*os.walk('F:\\\\raw')) # return current folder ,subfolder,files\n",
    "# A string of the current folder’s name\n",
    "# A list of strings of the folders in the current folder\n",
    "# A list of strings of the files in the current folder"
   ]
  },
  {
   "cell_type": "markdown",
   "metadata": {},
   "source": [
    "#### Compressing Files with the zipfile Module"
   ]
  },
  {
   "cell_type": "code",
   "execution_count": 26,
   "metadata": {},
   "outputs": [
    {
     "data": {
      "text/plain": [
       "['ML Project 1/.ipynb_checkpoints/',\n",
       " 'ML Project 1/.ipynb_checkpoints/Dragon Real Estates-checkpoint.ipynb',\n",
       " 'ML Project 1/.ipynb_checkpoints/Model Usage-checkpoint.ipynb',\n",
       " 'ML Project 1/data.csv',\n",
       " 'ML Project 1/Dragon Real Estates.ipynb',\n",
       " 'ML Project 1/Dragon.joblib',\n",
       " 'ML Project 1/housing.data',\n",
       " 'ML Project 1/housing.names',\n",
       " 'ML Project 1/Model Usage.ipynb',\n",
       " 'ML Project 1/Outputs from different models']"
      ]
     },
     "execution_count": 26,
     "metadata": {},
     "output_type": "execute_result"
    }
   ],
   "source": [
    "import zipfile , os\n",
    "exmpl=zipfile.ZipFile('F:\\\\raw\\\\zip1.zip')\n",
    "exmpl.namelist()"
   ]
  },
  {
   "cell_type": "code",
   "execution_count": 30,
   "metadata": {},
   "outputs": [
    {
     "name": "stdout",
     "output_type": "stream",
     "text": [
      "35177\n",
      "11747\n"
     ]
    }
   ],
   "source": [
    "file1=exmpl.getinfo('ML Project 1/data.csv')\n",
    "print(file1.file_size)\n",
    "print(file1.compress_size)"
   ]
  },
  {
   "cell_type": "code",
   "execution_count": 31,
   "metadata": {},
   "outputs": [],
   "source": [
    "# Extracting from ZIP Files \n",
    "# extract() extract single file \n",
    "exmpl.extractall()  # to cwd\n",
    "exmpl.close()"
   ]
  },
  {
   "cell_type": "code",
   "execution_count": 33,
   "metadata": {},
   "outputs": [],
   "source": [
    "## Creating and Adding to ZIP Files\n",
    "import zipfile\n",
    "newZip = zipfile.ZipFile('new.zip', 'w')\n",
    "newZip.write('glass.txt', compress_type=zipfile.ZIP_DEFLATED)\n",
    "newZip.close()\n",
    "\n",
    "#If you want to simply add files to an existing ZIP file,\n",
    "#pass 'a' as the second argument to zipfile.ZipFile() to open the ZIP file in append mode."
   ]
  },
  {
   "cell_type": "code",
   "execution_count": null,
   "metadata": {},
   "outputs": [],
   "source": []
  }
 ],
 "metadata": {
  "kernelspec": {
   "display_name": "Python 3",
   "language": "python",
   "name": "python3"
  },
  "language_info": {
   "codemirror_mode": {
    "name": "ipython",
    "version": 3
   },
   "file_extension": ".py",
   "mimetype": "text/x-python",
   "name": "python",
   "nbconvert_exporter": "python",
   "pygments_lexer": "ipython3",
   "version": "3.7.3"
  }
 },
 "nbformat": 4,
 "nbformat_minor": 2
}
